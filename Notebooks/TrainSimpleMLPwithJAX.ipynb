{
  "nbformat": 4,
  "nbformat_minor": 0,
  "metadata": {
    "colab": {
      "name": "TrainSimpleMLPwithJAX.ipynb",
      "provenance": [],
      "authorship_tag": "ABX9TyNUnMpMv+OJFKTXBeDuTTYR",
      "include_colab_link": true
    },
    "kernelspec": {
      "name": "python3",
      "display_name": "Python 3"
    },
    "language_info": {
      "name": "python"
    }
  },
  "cells": [
    {
      "cell_type": "markdown",
      "metadata": {
        "id": "view-in-github",
        "colab_type": "text"
      },
      "source": [
        "<a href=\"https://colab.research.google.com/github/bhadreshpsavani/LearningJax/blob/main/Notebooks/TrainSimpleMLPwithJAX.ipynb\" target=\"_parent\"><img src=\"https://colab.research.google.com/assets/colab-badge.svg\" alt=\"Open In Colab\"/></a>"
      ]
    },
    {
      "cell_type": "markdown",
      "metadata": {
        "id": "EvV23UDzeT1Z"
      },
      "source": [
        "# Linear Reression with JAX"
      ]
    },
    {
      "cell_type": "code",
      "metadata": {
        "id": "_ktM_wpKf6nK"
      },
      "source": [
        "import numpy as np\n",
        "import matplotlib.pyplot as plt\n",
        "import jax.numpy as jnp"
      ],
      "execution_count": null,
      "outputs": []
    },
    {
      "cell_type": "markdown",
      "metadata": {
        "id": "LOf_8O9XguPm"
      },
      "source": [
        "## Step1. Get Sample Data"
      ]
    },
    {
      "cell_type": "code",
      "metadata": {
        "colab": {
          "base_uri": "https://localhost:8080/",
          "height": 284
        },
        "id": "EmUxnFcgd3qf",
        "outputId": "a6589255-df45-4420-cabe-a22162a73198"
      },
      "source": [
        "xs = np.random.normal(size=(100,))\n",
        "noise = np.random.normal(scale=0.1, size=(100,))\n",
        "ys = xs * 3 - 1 + noise\n",
        "\n",
        "plt.scatter(xs, ys)"
      ],
      "execution_count": null,
      "outputs": [
        {
          "output_type": "execute_result",
          "data": {
            "text/plain": [
              "<matplotlib.collections.PathCollection at 0x7fc9a5ed5310>"
            ]
          },
          "metadata": {},
          "execution_count": 3
        },
        {
          "output_type": "display_data",
          "data": {
            "image/png": "[encoded data removed]",
            "text/plain": [
              "<Figure size 432x288 with 1 Axes>"
            ]
          },
          "metadata": {
            "needs_background": "light"
          }
        }
      ]
    },
    {
      "cell_type": "markdown",
      "metadata": {
        "id": "eqtTO1PBgtZt"
      },
      "source": [
        "## Step2. Define Model"
      ]
    },
    {
      "cell_type": "code",
      "metadata": {
        "id": "-KOK1xabeHZ9"
      },
      "source": [
        "def model(theta, x):\n",
        "  \"\"\"\n",
        "  our model will be simple linear equation\n",
        "  like y = mx+c\n",
        "  \"\"\"\n",
        "  w, b = theta\n",
        "  return w*x + b"
      ],
      "execution_count": null,
      "outputs": []
    },
    {
      "cell_type": "markdown",
      "metadata": {
        "id": "jIwUSx88g5SW"
      },
      "source": [
        "## Step3. Define Loss function"
      ]
    },
    {
      "cell_type": "code",
      "metadata": {
        "id": "6uF4Pqg2fSvI"
      },
      "source": [
        "def loss_fn(theta, x, y):\n",
        "  \"\"\"\n",
        "  J(x,y;θ)=(y^−y)2\n",
        "  \"\"\"\n",
        "  # make prediction\n",
        "  prediction = model(theta, x)\n",
        "  return jnp.mean((prediction-y)**2) # calculate loss"
      ],
      "execution_count": null,
      "outputs": []
    },
    {
      "cell_type": "markdown",
      "metadata": {
        "id": "Rtic0IIAg9t6"
      },
      "source": [
        "## Step4. Define Optimizer Function"
      ]
    },
    {
      "cell_type": "code",
      "metadata": {
        "id": "g3P5x6Qof2px"
      },
      "source": [
        "def update(theta, x, y, lr=0.1):\n",
        "  \"\"\"\n",
        "  We will use gradient decent to update weights\n",
        "  for that first we will find gradient of loss function\n",
        "  and use that for updating weights\n",
        "  \"\"\"\n",
        "  return theta - lr * jax.grad(loss_fn)(theta, x, y)"
      ],
      "execution_count": null,
      "outputs": []
    },
    {
      "cell_type": "markdown",
      "metadata": {
        "id": "fVOEHPVthDBN"
      },
      "source": [
        "## Step5. Train Model"
      ]
    },
    {
      "cell_type": "code",
      "metadata": {
        "colab": {
          "base_uri": "https://localhost:8080/"
        },
        "id": "IEy_MTaTgUcA",
        "outputId": "e923f248-1f1a-4c89-d560-4c92c415719c"
      },
      "source": [
        "# initialize single weight and bias variable with one\n",
        "theta = jnp.array([1.,1.])"
      ],
      "execution_count": null,
      "outputs": [
        {
          "output_type": "stream",
          "name": "stderr",
          "text": [
            "WARNING:absl:No GPU/TPU found, falling back to CPU. (Set TF_CPP_MIN_LOG_LEVEL=0 and rerun for more info.)\n"
          ]
        }
      ]
    },
    {
      "cell_type": "code",
      "metadata": {
        "id": "lWaO8RNOhVho"
      },
      "source": [
        "# train model and update weights\n",
        "for _ in range(1000):\n",
        "  theta = update(theta, xs, ys)"
      ],
      "execution_count": null,
      "outputs": []
    },
    {
      "cell_type": "code",
      "metadata": {
        "colab": {
          "base_uri": "https://localhost:8080/",
          "height": 286
        },
        "id": "vFqTwWxXhv1A",
        "outputId": "65e49d50-db8d-43f1-a7cf-77584f663646"
      },
      "source": [
        "plt.scatter(xs, ys)\n",
        "plt.plot(xs, model(theta, xs))\n",
        "w, b = theta\n",
        "print(f\"w: {w:<.2f}, b: {b:<.2f}\")"
      ],
      "execution_count": null,
      "outputs": [
        {
          "output_type": "stream",
          "name": "stdout",
          "text": [
            "w: 3.00, b: -1.01\n"
          ]
        },
        {
          "output_type": "display_data",
          "data": {
            "image/png": "[encoded data removed]",
            "text/plain": [
              "<Figure size 432x288 with 1 Axes>"
            ]
          },
          "metadata": {
            "needs_background": "light"
          }
        }
      ]
    },
    {
      "cell_type": "code",
      "metadata": {
        "id": "G1tqp731jEXB"
      },
      "source": [
        ""
      ],
      "execution_count": null,
      "outputs": []
    }
  ]
}